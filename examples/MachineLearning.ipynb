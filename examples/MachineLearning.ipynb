{
 "cells": [
  {
   "attachments": {},
   "cell_type": "markdown",
   "metadata": {},
   "source": [
    "# Machine Learning"
   ]
  },
  {
   "cell_type": "code",
   "execution_count": null,
   "metadata": {},
   "outputs": [],
   "source": [
    "from madminer.sampling import SampleAugmenter\n",
    "from madminer import sampling\n",
    "from madminer.ml import ScoreEstimator"
   ]
  },
  {
   "cell_type": "code",
   "execution_count": null,
   "metadata": {},
   "outputs": [],
   "source": [
    "fileName = \"\"\n",
    "sampler = SampleAugmenter(f\"data/delphes_{fileName}.h5\")\n",
    "\n",
    "\n",
    "x, theta, t_xz, _ = sampler.sample_train_local(\n",
    "    theta=sampling.benchmarks([\"sm\"]),\n",
    "#         theta=sampling.benchmark(i),\n",
    "    n_samples=500000,\n",
    "    folder=f\"./data/samples_{fileName}\",\n",
    "    filename=f\"train_score_{fileName}\",\n",
    ")\n",
    "estimator = ScoreEstimator(n_hidden=(30, 30))\n",
    "estimator.train(\n",
    "method=\"sally\",\n",
    "x=f\"data/samples_{fileName}/x_train_score_{fileName}.npy\",\n",
    "t_xz=f\"data/samples_{fileName}/t_xz_train_score_{fileName}.npy\",\n",
    "n_epochs = 100,\n",
    "# batch_size=64,\n",
    "# initial_lr=0.002,\n",
    "# final_lr=0.0002,\n",
    ")"
   ]
  },
  {
   "cell_type": "code",
   "execution_count": null,
   "metadata": {},
   "outputs": [],
   "source": [
    "estimator.save(f\"models/sally_{i}\")"
   ]
  }
 ],
 "metadata": {
  "language_info": {
   "name": "python"
  },
  "orig_nbformat": 4
 },
 "nbformat": 4,
 "nbformat_minor": 2
}

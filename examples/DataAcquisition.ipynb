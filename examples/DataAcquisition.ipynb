{
 "cells": [
  {
   "attachments": {},
   "cell_type": "markdown",
   "metadata": {},
   "source": [
    "#  Data Acquisition"
   ]
  },
  {
   "attachments": {},
   "cell_type": "markdown",
   "metadata": {},
   "source": [
    "## 1. Setup"
   ]
  },
  {
   "cell_type": "code",
   "execution_count": null,
   "metadata": {},
   "outputs": [],
   "source": [
    "import logging\n",
    "! pip install numpy==1.21\n",
    "logging.basicConfig(\n",
    "    format=\"%(asctime)-5.5s %(name)-20.20s %(levelname)-7.7s %(message)s\",\n",
    "    datefmt=\"%H:%M\",\n",
    "    level=logging.INFO,\n",
    ")\n",
    "\n",
    "for key in logging.Logger.manager.loggerDict:\n",
    "    if \"madminer\" not in key:\n",
    "        logging.getLogger(key).setLevel(logging.WARNING)\n",
    "from madminer import MadMiner"
   ]
  },
  {
   "attachments": {},
   "cell_type": "markdown",
   "metadata": {},
   "source": [
    "## 2.Determine the form of the Lagrangian"
   ]
  },
  {
   "cell_type": "code",
   "execution_count": null,
   "metadata": {},
   "outputs": [],
   "source": [
    "miner = MadMiner()\n",
    "\n",
    "miner.add_parameter(\n",
    "    lha_block=\"SMEFT\",\n",
    "    lha_id=118,\n",
    "    parameter_name=\"cHq3Re33\",\n",
    "    morphing_max_power=2,\n",
    "    param_card_transform=\"1000*theta\",\n",
    "    parameter_range=(-1.0, 1.0),\n",
    ")\n",
    "miner.add_parameter(\n",
    "    lha_block=\"SMEFT\",\n",
    "    lha_id=136,\n",
    "    parameter_name=\"cHuRe33\",\n",
    "    morphing_max_power=2,\n",
    "    param_card_transform=\"1000*theta\",\n",
    "    parameter_range=(-1.0, 1.0),\n",
    ")\n",
    "\n",
    "miner.add_benchmark({\"cHq3Re33\": 0.0, \"cHuRe33\": 0.0}, 'sm')\n",
    "\n",
    "miner.set_morphing(include_existing_benchmarks=True, max_overall_power=2)\n",
    "\n",
    "miner.save(\"data/setup_em.h5\")"
   ]
  },
  {
   "attachments": {},
   "cell_type": "markdown",
   "metadata": {},
   "source": [
    "## 3.Run Madgraph and Pythia8"
   ]
  },
  {
   "cell_type": "code",
   "execution_count": null,
   "metadata": {},
   "outputs": [],
   "source": [
    "import os\n",
    "\n",
    "from madminer.core import MadMiner\n",
    "from madminer.delphes import DelphesReader"
   ]
  },
  {
   "attachments": {},
   "cell_type": "markdown",
   "metadata": {},
   "source": [
    "## 4.Run Delphes"
   ]
  },
  {
   "cell_type": "code",
   "execution_count": null,
   "metadata": {},
   "outputs": [],
   "source": [
    "delphes = DelphesReader(\"data/setup_please.h5\")\n",
    "j = 1\n",
    "for m in [\"sm\"]:\n",
    "    delphes.add_sample(\n",
    "        lhe_filename=f'mg_processes/{fileName}/Events/run_0{j}/unweighted_events.lhe.gz',\n",
    "        hepmc_filename=f'mg_processes/{fileName}/Events/run_0{j}/tag_1_pythia8_events.hepmc.gz',\n",
    "        sampled_from_benchmark=m,\n",
    "\n",
    "        is_background=False,\n",
    "    )\n",
    "    j += 1\n",
    "delphes.run_delphes(\n",
    "    delphes_directory=mg_dir + '/Delphes',\n",
    "    delphes_card='cards/delphes_card.dat',\n",
    "    log_file='logs/delphes.log',\n",
    ")"
   ]
  },
  {
   "attachments": {},
   "cell_type": "markdown",
   "metadata": {},
   "source": [
    "## 5.Choose Observables"
   ]
  },
  {
   "cell_type": "code",
   "execution_count": null,
   "metadata": {},
   "outputs": [],
   "source": [
    "delphes.add_default_observables(n_leptons_max=2,n_photons_max=0,n_jets_max=4) #todo\n",
    "delphes.analyse_delphes_samples()\n",
    "delphes.save(\"data/delphes_0511_2xiao.h5\")"
   ]
  }
 ],
 "metadata": {
  "language_info": {
   "name": "python"
  },
  "orig_nbformat": 4
 },
 "nbformat": 4,
 "nbformat_minor": 2
}
